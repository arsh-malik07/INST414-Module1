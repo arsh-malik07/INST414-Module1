{
 "cells": [
  {
   "cell_type": "code",
   "execution_count": 5,
   "id": "526085ca-9016-49e5-88a6-86b0b8be634c",
   "metadata": {},
   "outputs": [
    {
     "name": "stdout",
     "output_type": "stream",
     "text": [
      "Saved figs in ./figs\n"
     ]
    }
   ],
   "source": [
    "import pandas as pd\n",
    "import matplotlib.pyplot as plt\n",
    "from pathlib import Path\n",
    "\n",
    "Path(\"figs\").mkdir(exist_ok=True)\n",
    "\n",
    "files = {\"DCA\": \"faa_dca.xlsx\", \"BWI\": \"faa_bwi.xlsx\"}\n",
    "dfs = []\n",
    "for code, path in files.items():\n",
    "    df = pd.read_excel(path)\n",
    "    # normalize headers (lowercase, strip, spaces->underscores)\n",
    "    df.columns = df.columns.str.lower().str.strip().str.replace(r\"\\s+\",\"_\", regex=True)\n",
    "    df[\"airport\"] = code\n",
    "    dfs.append(df)\n",
    "\n",
    "df = pd.concat(dfs, ignore_index=True)\n",
    "\n",
    "# ---- dates ----\n",
    "date_col = \"incident_date\" if \"incident_date\" in df.columns else \"date\"\n",
    "df[date_col] = pd.to_datetime(df[date_col], errors=\"coerce\")\n",
    "df = df.dropna(subset=[date_col])\n",
    "df[\"year\"]  = df[date_col].dt.year\n",
    "df[\"month\"] = df[date_col].dt.to_period(\"M\")\n",
    "\n",
    "# ---- damage (your files have damage_level + indicated_damage) ----\n",
    "has_lvl  = \"damage_level\" in df.columns\n",
    "has_bool = \"indicated_damage\" in df.columns\n",
    "\n",
    "if not (has_lvl or has_bool):\n",
    "    raise ValueError(\"No damage column found; re-download the full Excel (not the 8-column table).\")\n",
    "\n",
    "codes_damaged = {\"m\",\"m?\",\"s\",\"d\",\"minor\",\"substantial\",\"destroyed\"}  # anything other than 'N'\n",
    "\n",
    "lvl = df[\"damage_level\"].astype(str).str.lower() if has_lvl else pd.Series(\"\", index=df.index)\n",
    "damaging = lvl.isin(codes_damaged)\n",
    "if has_bool:\n",
    "    damaging = damaging | (df[\"indicated_damage\"] == True)\n",
    "df[\"damage_norm_any\"] = damaging  # boolean you can group on\n",
    "\n",
    "# ---- species column ----\n",
    "species_col = \"species\" if \"species\" in df.columns else [c for c in df.columns if \"species\" in c][0]\n",
    "\n",
    "# 1) monthly trend\n",
    "from matplotlib.dates import YearLocator, DateFormatter\n",
    "\n",
    "monthly = (df.groupby([\"airport\", df[\"incident_date\"].dt.to_period(\"M\")])\n",
    "             .size().rename(\"strikes\").reset_index())\n",
    "pivot = monthly.pivot(index=\"incident_date\", columns=\"airport\", values=\"strikes\").sort_index()\n",
    "ts = pivot.index.to_timestamp()\n",
    "\n",
    "ax = pivot.set_index(ts).rolling(3, min_periods=1).mean().plot(\n",
    "        figsize=(9,4), title=\"Bird strikes over time (3-month rolling)\")\n",
    "ax.set_xlabel(\"Year\")\n",
    "ax.set_ylabel(\"Strikes\")\n",
    "ax.xaxis.set_major_locator(YearLocator(1))\n",
    "ax.xaxis.set_major_formatter(DateFormatter(\"%Y\"))\n",
    "plt.tight_layout(); plt.savefig(\"figs/monthly_trend_rolling.png\", dpi=200); plt.close()\n",
    "\n",
    "\n",
    "# 2) percent with any damage\n",
    "rate = (df.groupby(\"airport\")[\"damage_norm_any\"].mean().mul(100).round(1)\n",
    "          .rename(\"damage_rate_pct\"))\n",
    "ax = rate.plot(kind=\"bar\", figsize=(6,4), title=\"Percent of strikes causing damage\")\n",
    "ax.set_ylabel(\"% with damage\"); plt.xticks(rotation=0)\n",
    "plt.tight_layout(); plt.savefig(\"figs/damage_rate_dca_bwi.png\", dpi=200); plt.close()\n",
    "\n",
    "# 3) top species in damaging strikes (combined airports)\n",
    "top_species = (df[df[\"damage_norm_any\"]]\n",
    "               .groupby(species_col).size()\n",
    "               .sort_values(ascending=False).head(10))\n",
    "ax = top_species.plot(kind=\"barh\", figsize=(8,5),\n",
    "                      title=\"Top species in damaging strikes (DCA + BWI, 2010+)\")\n",
    "ax.set_xlabel(\"Damaging strikes\")\n",
    "plt.tight_layout(); plt.savefig(\"figs/top_species_damaging_dca_bwi.png\", dpi=200); plt.close()\n",
    "\n",
    "print(\"Saved figs in ./figs\")"
   ]
  },
  {
   "cell_type": "code",
   "execution_count": null,
   "id": "99f9c653-06ef-4cbe-b4ae-ba3f3cc06499",
   "metadata": {},
   "outputs": [],
   "source": []
  }
 ],
 "metadata": {
  "kernelspec": {
   "display_name": "Python 3 (ipykernel)",
   "language": "python",
   "name": "python3"
  },
  "language_info": {
   "codemirror_mode": {
    "name": "ipython",
    "version": 3
   },
   "file_extension": ".py",
   "mimetype": "text/x-python",
   "name": "python",
   "nbconvert_exporter": "python",
   "pygments_lexer": "ipython3",
   "version": "3.11.7"
  }
 },
 "nbformat": 4,
 "nbformat_minor": 5
}
